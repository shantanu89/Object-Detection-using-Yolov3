{
 "cells": [
  {
   "cell_type": "code",
   "execution_count": 1,
   "id": "f506ba88",
   "metadata": {},
   "outputs": [],
   "source": [
    "import numpy as np\n",
    "import time\n",
    "import cv2"
   ]
  },
  {
   "cell_type": "code",
   "execution_count": 2,
   "id": "093680f4",
   "metadata": {},
   "outputs": [],
   "source": [
    "INPUT_FILE='C:/Users/Himanshu Jawale/Pedestrain_Detection/yash_1.jpg'\n",
    "OUTPUT_FILE='predicted.jpg'\n",
    "LABELS_FILE='C:/Users/Himanshu Jawale/Pedestrain_Detection/darknet-master/data/coco.names'\n",
    "CONFIG_FILE='C:/Users/Himanshu Jawale/Pedestrain_Detection/darknet-master/cfg/yolov3.cfg'\n",
    "WEIGHTS_FILE='yolov3.weights'"
   ]
  },
  {
   "cell_type": "code",
   "execution_count": 3,
   "id": "339bebcf",
   "metadata": {},
   "outputs": [],
   "source": [
    "CONFIDENCE_THRESHOLD=0.3"
   ]
  },
  {
   "cell_type": "code",
   "execution_count": 4,
   "id": "6d2055a9",
   "metadata": {},
   "outputs": [],
   "source": [
    "LABELS = open(LABELS_FILE).read().strip().split(\"\\n\")"
   ]
  },
  {
   "cell_type": "code",
   "execution_count": 5,
   "id": "83657bfd",
   "metadata": {},
   "outputs": [],
   "source": [
    "np.random.seed(4)"
   ]
  },
  {
   "cell_type": "code",
   "execution_count": 6,
   "id": "50901663",
   "metadata": {},
   "outputs": [],
   "source": [
    "COLORS = np.random.randint(0, 255, size=(len(LABELS), 3),\n",
    "\tdtype=\"uint8\")"
   ]
  },
  {
   "cell_type": "code",
   "execution_count": 7,
   "id": "ce469334",
   "metadata": {},
   "outputs": [],
   "source": [
    "net = cv2.dnn.readNetFromDarknet(CONFIG_FILE, WEIGHTS_FILE)\n"
   ]
  },
  {
   "cell_type": "code",
   "execution_count": 8,
   "id": "e3294ed8",
   "metadata": {},
   "outputs": [],
   "source": [
    "image = cv2.imread(INPUT_FILE)"
   ]
  },
  {
   "cell_type": "code",
   "execution_count": 9,
   "id": "37e7491d",
   "metadata": {},
   "outputs": [],
   "source": [
    "(H, W) = image.shape[:2]"
   ]
  },
  {
   "cell_type": "markdown",
   "id": "912ecef0",
   "metadata": {},
   "source": [
    "# determine only the *output* layer names that we need from YOLO\n"
   ]
  },
  {
   "cell_type": "code",
   "execution_count": 10,
   "id": "403be0ee",
   "metadata": {},
   "outputs": [],
   "source": [
    "ln = net.getLayerNames()"
   ]
  },
  {
   "cell_type": "code",
   "execution_count": 11,
   "id": "7bc5fbe8",
   "metadata": {},
   "outputs": [],
   "source": [
    "ln = [ln[i[0] - 1] for i in net.getUnconnectedOutLayers()]\n"
   ]
  },
  {
   "cell_type": "code",
   "execution_count": 12,
   "id": "19712d0c",
   "metadata": {},
   "outputs": [],
   "source": [
    "blob = cv2.dnn.blobFromImage(image, 1 / 255.0, (416, 416),\n",
    "\tswapRB=True, crop=False)"
   ]
  },
  {
   "cell_type": "code",
   "execution_count": 13,
   "id": "72c43343",
   "metadata": {},
   "outputs": [],
   "source": [
    "net.setInput(blob)"
   ]
  },
  {
   "cell_type": "code",
   "execution_count": 14,
   "id": "76f2ddd0",
   "metadata": {},
   "outputs": [],
   "source": [
    "start = time.time()"
   ]
  },
  {
   "cell_type": "code",
   "execution_count": 15,
   "id": "ba29071d",
   "metadata": {},
   "outputs": [],
   "source": [
    "layerOutputs = net.forward(ln)"
   ]
  },
  {
   "cell_type": "code",
   "execution_count": 16,
   "id": "a725a6b8",
   "metadata": {},
   "outputs": [],
   "source": [
    "end = time.time()"
   ]
  },
  {
   "cell_type": "code",
   "execution_count": 17,
   "id": "3e26dcf4",
   "metadata": {},
   "outputs": [
    {
     "name": "stdout",
     "output_type": "stream",
     "text": [
      "[INFO] YOLO took 1.116017 seconds\n"
     ]
    }
   ],
   "source": [
    "print(\"[INFO] YOLO took {:.6f} seconds\".format(end - start))\n"
   ]
  },
  {
   "cell_type": "markdown",
   "id": "ea711dc3",
   "metadata": {},
   "source": [
    "# initialize our lists of detected bounding boxes, confidences, and\n",
    "# class IDs, respectively"
   ]
  },
  {
   "cell_type": "code",
   "execution_count": 18,
   "id": "1d8d4802",
   "metadata": {},
   "outputs": [],
   "source": [
    "boxes = []\n",
    "confidences = []\n",
    "classIDs = []"
   ]
  },
  {
   "cell_type": "code",
   "execution_count": 19,
   "id": "d7509a44",
   "metadata": {},
   "outputs": [],
   "source": [
    "for output in layerOutputs:\n",
    "\t# loop over each of the detections\n",
    "\tfor detection in output:\n",
    "\t\t# extract the class ID and confidence (i.e., probability) of\n",
    "\t\t# the current object detection\n",
    "\t\tscores = detection[5:]\n",
    "\t\tclassID = np.argmax(scores)\n",
    "\t\tconfidence = scores[classID]\n",
    "\n",
    "\t\t# filter out weak predictions by ensuring the detected\n",
    "\t\t# probability is greater than the minimum probability\n",
    "\t\tif confidence > CONFIDENCE_THRESHOLD:\n",
    "\t\t\t# scale the bounding box coordinates back relative to the\n",
    "\t\t\t# size of the image, keeping in mind that YOLO actually\n",
    "\t\t\t# returns the center (x, y)-coordinates of the bounding\n",
    "\t\t\t# box followed by the boxes' width and height\n",
    "\t\t\tbox = detection[0:4] * np.array([W, H, W, H])\n",
    "\t\t\t(centerX, centerY, width, height) = box.astype(\"int\")\n",
    "\n",
    "\t\t\t# use the center (x, y)-coordinates to derive the top and\n",
    "\t\t\t# and left corner of the bounding box\n",
    "\t\t\tx = int(centerX - (width / 2))\n",
    "\t\t\ty = int(centerY - (height / 2))\n",
    "\n",
    "\t\t\t# update our list of bounding box coordinates, confidences,\n",
    "\t\t\t# and class IDs\n",
    "\t\t\tboxes.append([x, y, int(width), int(height)])\n",
    "\t\t\tconfidences.append(float(confidence))\n",
    "\t\t\tclassIDs.append(classID)"
   ]
  },
  {
   "cell_type": "markdown",
   "id": "5bd4504a",
   "metadata": {},
   "source": [
    "# apply non-maxima suppression to suppress weak, overlapping bounding\n",
    "# boxes"
   ]
  },
  {
   "cell_type": "code",
   "execution_count": 20,
   "id": "ad9ea64f",
   "metadata": {},
   "outputs": [],
   "source": [
    "idxs = cv2.dnn.NMSBoxes(boxes, confidences, CONFIDENCE_THRESHOLD,\n",
    "\tCONFIDENCE_THRESHOLD)\n"
   ]
  },
  {
   "cell_type": "markdown",
   "id": "8dd0c6d7",
   "metadata": {},
   "source": [
    "# ensure at least one detection exists"
   ]
  },
  {
   "cell_type": "code",
   "execution_count": 21,
   "id": "3914c5e0",
   "metadata": {},
   "outputs": [],
   "source": [
    "if len(idxs) > 0:\n",
    "\t# loop over the indexes we are keeping\n",
    "\tfor i in idxs.flatten():\n",
    "\t\t# extract the bounding box coordinates\n",
    "\t\t(x, y) = (boxes[i][0], boxes[i][1])\n",
    "\t\t(w, h) = (boxes[i][2], boxes[i][3])\n",
    "\n",
    "\t\tcolor = [int(c) for c in COLORS[classIDs[i]]]\n",
    "\n",
    "\t\tcv2.rectangle(image, (x, y), (x + w, y + h), color, 2)\n",
    "\t\ttext = \"{}: {:.4f}\".format(LABELS[classIDs[i]], confidences[i])\n",
    "\t\tcv2.putText(image, text, (x, y - 5), cv2.FONT_HERSHEY_SIMPLEX,\n",
    "\t\t\t0.5, color, 2)"
   ]
  },
  {
   "cell_type": "code",
   "execution_count": 22,
   "id": "385e6abd",
   "metadata": {},
   "outputs": [
    {
     "data": {
      "text/plain": [
       "True"
      ]
     },
     "execution_count": 22,
     "metadata": {},
     "output_type": "execute_result"
    }
   ],
   "source": [
    "cv2.imwrite(\"yash_1_output.png\", image)"
   ]
  }
 ],
 "metadata": {
  "kernelspec": {
   "display_name": "Python 3",
   "language": "python",
   "name": "python3"
  },
  "language_info": {
   "codemirror_mode": {
    "name": "ipython",
    "version": 3
   },
   "file_extension": ".py",
   "mimetype": "text/x-python",
   "name": "python",
   "nbconvert_exporter": "python",
   "pygments_lexer": "ipython3",
   "version": "3.8.8"
  }
 },
 "nbformat": 4,
 "nbformat_minor": 5
}
